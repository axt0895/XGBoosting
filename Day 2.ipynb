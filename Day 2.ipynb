{
 "cells": [
  {
   "cell_type": "markdown",
   "id": "297960b9",
   "metadata": {},
   "source": [
    "# Imports"
   ]
  },
  {
   "cell_type": "code",
   "execution_count": 10,
   "id": "7e0c8ae2",
   "metadata": {},
   "outputs": [],
   "source": [
    "import numpy as np\n",
    "import pandas as pd\n",
    "import xgboost as xgb\n",
    "import seaborn as sns\n",
    "import matplotlib.pyplot as plt\n",
    "\n",
    "from sklearn.datasets import fetch_california_housing\n",
    "from sklearn.preprocessing import StandardScaler\n",
    "from sklearn.model_selection import train_test_split\n",
    "from sklearn.metrics import r2_score, mean_squared_error"
   ]
  },
  {
   "cell_type": "markdown",
   "id": "ca2e996c",
   "metadata": {},
   "source": [
    "# Load the dataset"
   ]
  },
  {
   "cell_type": "code",
   "execution_count": 2,
   "id": "ba8c2032",
   "metadata": {},
   "outputs": [],
   "source": [
    "X, y = fetch_california_housing(as_frame=True, return_X_y=True)"
   ]
  },
  {
   "cell_type": "code",
   "execution_count": 3,
   "id": "e28d9a2a",
   "metadata": {},
   "outputs": [],
   "source": [
    "X_train, X_test, y_train, y_test = train_test_split(X, y, train_size=0.85, random_state=42)"
   ]
  },
  {
   "cell_type": "markdown",
   "id": "63511a02",
   "metadata": {},
   "source": [
    "# Create the Data Matrix"
   ]
  },
  {
   "cell_type": "code",
   "execution_count": 4,
   "id": "c60797eb",
   "metadata": {},
   "outputs": [],
   "source": [
    "train_dmatrix = xgb.DMatrix(X_train, label=y_train)\n",
    "test_dmatrix = xgb.DMatrix(X_test, label=y_test)"
   ]
  },
  {
   "cell_type": "markdown",
   "id": "4eda7c06",
   "metadata": {},
   "source": [
    "# Train the XGBoost Regressor"
   ]
  },
  {
   "cell_type": "code",
   "execution_count": 6,
   "id": "bf344b2a",
   "metadata": {},
   "outputs": [],
   "source": [
    "params = {\n",
    "    'objective': 'reg:squarederror',\n",
    "    'eval_metric': 'rmse',\n",
    "    'learning_rate': 0.1,\n",
    "    'max_depth':5\n",
    "}"
   ]
  },
  {
   "cell_type": "code",
   "execution_count": 7,
   "id": "f0bb98de",
   "metadata": {},
   "outputs": [
    {
     "name": "stdout",
     "output_type": "stream",
     "text": [
      "[0]\tTest-rmse:1.07621\n",
      "[1]\tTest-rmse:1.01608\n",
      "[2]\tTest-rmse:0.96218\n",
      "[3]\tTest-rmse:0.91447\n",
      "[4]\tTest-rmse:0.87394\n",
      "[5]\tTest-rmse:0.83783\n",
      "[6]\tTest-rmse:0.80567\n",
      "[7]\tTest-rmse:0.77884\n",
      "[8]\tTest-rmse:0.75579\n",
      "[9]\tTest-rmse:0.73434\n",
      "[10]\tTest-rmse:0.71537\n",
      "[11]\tTest-rmse:0.70032\n",
      "[12]\tTest-rmse:0.68426\n",
      "[13]\tTest-rmse:0.67334\n",
      "[14]\tTest-rmse:0.66108\n",
      "[15]\tTest-rmse:0.64994\n",
      "[16]\tTest-rmse:0.64126\n",
      "[17]\tTest-rmse:0.63376\n",
      "[18]\tTest-rmse:0.62665\n",
      "[19]\tTest-rmse:0.61974\n",
      "[20]\tTest-rmse:0.61158\n",
      "[21]\tTest-rmse:0.60539\n",
      "[22]\tTest-rmse:0.59938\n",
      "[23]\tTest-rmse:0.59199\n",
      "[24]\tTest-rmse:0.58674\n",
      "[25]\tTest-rmse:0.58032\n",
      "[26]\tTest-rmse:0.57709\n",
      "[27]\tTest-rmse:0.57328\n",
      "[28]\tTest-rmse:0.56845\n",
      "[29]\tTest-rmse:0.56545\n",
      "[30]\tTest-rmse:0.56261\n",
      "[31]\tTest-rmse:0.55595\n",
      "[32]\tTest-rmse:0.55459\n",
      "[33]\tTest-rmse:0.55089\n",
      "[34]\tTest-rmse:0.54913\n",
      "[35]\tTest-rmse:0.54723\n",
      "[36]\tTest-rmse:0.54191\n",
      "[37]\tTest-rmse:0.53906\n",
      "[38]\tTest-rmse:0.53721\n",
      "[39]\tTest-rmse:0.53520\n",
      "[40]\tTest-rmse:0.53311\n",
      "[41]\tTest-rmse:0.53201\n",
      "[42]\tTest-rmse:0.53084\n",
      "[43]\tTest-rmse:0.52977\n",
      "[44]\tTest-rmse:0.52761\n",
      "[45]\tTest-rmse:0.52676\n",
      "[46]\tTest-rmse:0.52491\n",
      "[47]\tTest-rmse:0.52158\n",
      "[48]\tTest-rmse:0.52133\n",
      "[49]\tTest-rmse:0.52045\n",
      "[50]\tTest-rmse:0.51906\n",
      "[51]\tTest-rmse:0.51859\n",
      "[52]\tTest-rmse:0.51715\n",
      "[53]\tTest-rmse:0.51612\n",
      "[54]\tTest-rmse:0.51522\n",
      "[55]\tTest-rmse:0.51420\n",
      "[56]\tTest-rmse:0.51274\n",
      "[57]\tTest-rmse:0.51203\n",
      "[58]\tTest-rmse:0.51125\n",
      "[59]\tTest-rmse:0.51039\n",
      "[60]\tTest-rmse:0.50971\n",
      "[61]\tTest-rmse:0.50912\n",
      "[62]\tTest-rmse:0.50879\n",
      "[63]\tTest-rmse:0.50750\n",
      "[64]\tTest-rmse:0.50677\n",
      "[65]\tTest-rmse:0.50617\n",
      "[66]\tTest-rmse:0.50518\n",
      "[67]\tTest-rmse:0.50514\n",
      "[68]\tTest-rmse:0.50410\n",
      "[69]\tTest-rmse:0.50283\n",
      "[70]\tTest-rmse:0.50293\n",
      "[71]\tTest-rmse:0.50188\n",
      "[72]\tTest-rmse:0.50106\n",
      "[73]\tTest-rmse:0.50089\n",
      "[74]\tTest-rmse:0.50025\n",
      "[75]\tTest-rmse:0.49997\n",
      "[76]\tTest-rmse:0.49882\n",
      "[77]\tTest-rmse:0.49873\n",
      "[78]\tTest-rmse:0.49862\n",
      "[79]\tTest-rmse:0.49831\n",
      "[80]\tTest-rmse:0.49801\n",
      "[81]\tTest-rmse:0.49677\n",
      "[82]\tTest-rmse:0.49622\n",
      "[83]\tTest-rmse:0.49567\n",
      "[84]\tTest-rmse:0.49540\n",
      "[85]\tTest-rmse:0.49499\n",
      "[86]\tTest-rmse:0.49476\n",
      "[87]\tTest-rmse:0.49413\n",
      "[88]\tTest-rmse:0.49379\n",
      "[89]\tTest-rmse:0.49331\n",
      "[90]\tTest-rmse:0.49318\n",
      "[91]\tTest-rmse:0.49274\n",
      "[92]\tTest-rmse:0.49246\n",
      "[93]\tTest-rmse:0.49230\n",
      "[94]\tTest-rmse:0.49212\n",
      "[95]\tTest-rmse:0.49153\n",
      "[96]\tTest-rmse:0.49133\n",
      "[97]\tTest-rmse:0.49085\n",
      "[98]\tTest-rmse:0.49012\n",
      "[99]\tTest-rmse:0.48990\n"
     ]
    }
   ],
   "source": [
    "xgb_model = xgb.train(\n",
    "    params,\n",
    "    train_dmatrix,\n",
    "    num_boost_round=100, \n",
    "    early_stopping_rounds=10, \n",
    "    verbose_eval=True,\n",
    "    evals=[(test_dmatrix, 'Test')]\n",
    ")"
   ]
  },
  {
   "cell_type": "code",
   "execution_count": 8,
   "id": "291eab50",
   "metadata": {},
   "outputs": [],
   "source": [
    "y_predict = xgb_model.predict(test_dmatrix)"
   ]
  },
  {
   "cell_type": "markdown",
   "id": "f65ad15f",
   "metadata": {},
   "source": [
    "# Model Evaluation"
   ]
  },
  {
   "cell_type": "code",
   "execution_count": 11,
   "id": "9787288b",
   "metadata": {},
   "outputs": [],
   "source": [
    "rmse = mean_squared_error(y_test, y_predict, squared=False)"
   ]
  },
  {
   "cell_type": "code",
   "execution_count": 13,
   "id": "580f6f94",
   "metadata": {},
   "outputs": [],
   "source": [
    "r2 = r2_score(y_test, y_predict)"
   ]
  },
  {
   "cell_type": "code",
   "execution_count": 14,
   "id": "2a089519",
   "metadata": {},
   "outputs": [
    {
     "data": {
      "text/plain": [
       "0.8168667210987989"
      ]
     },
     "execution_count": 14,
     "metadata": {},
     "output_type": "execute_result"
    }
   ],
   "source": [
    "r2"
   ]
  },
  {
   "cell_type": "code",
   "execution_count": 16,
   "id": "8b93885a",
   "metadata": {},
   "outputs": [
    {
     "data": {
      "image/png": "[encoded data removed]",
      "text/plain": [
       "<Figure size 640x480 with 1 Axes>"
      ]
     },
     "metadata": {},
     "output_type": "display_data"
    }
   ],
   "source": [
    "xgb.plot_importance(xgb_model)\n",
    "\n",
    "plt.show()"
   ]
  },
  {
   "cell_type": "code",
   "execution_count": null,
   "id": "1d8bb429",
   "metadata": {},
   "outputs": [],
   "source": []
  }
 ],
 "metadata": {
  "kernelspec": {
   "display_name": "Python 3 (ipykernel)",
   "language": "python",
   "name": "python3"
  },
  "language_info": {
   "codemirror_mode": {
    "name": "ipython",
    "version": 3
   },
   "file_extension": ".py",
   "mimetype": "text/x-python",
   "name": "python",
   "nbconvert_exporter": "python",
   "pygments_lexer": "ipython3",
   "version": "3.11.4"
  }
 },
 "nbformat": 4,
 "nbformat_minor": 5
}
